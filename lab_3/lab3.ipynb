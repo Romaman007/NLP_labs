{
 "cells": [
  {
   "cell_type": "code",
   "execution_count": 21,
   "metadata": {},
   "outputs": [],
   "source": [
    "import torch\n",
    "from transformers import AutoModelForSeq2SeqLM, AutoTokenizer"
   ]
  },
  {
   "cell_type": "code",
   "execution_count": 30,
   "metadata": {},
   "outputs": [],
   "source": [
    "sentence = \"At every moment of time, millions of events occur that, to one degree or another, influence the formation of the future.\""
   ]
  },
  {
   "cell_type": "markdown",
   "metadata": {},
   "source": [
    "#### Для генерации используется модель Bart, на вход которой подается промт {предложение}{There is some ways to rephrase this sentence. 1.}. Именно при такой, не совсем корректной формулировке, получаются хорошие результаты. При использовании {There are several ways to...} модель начинает генерировать шаблонные конструкции, которые влияют на результаты выполнения поставленной задачи. Видимо подобная конструкция слишком часто встречалась в тренировочных данных с определенным продолжением. Если менять температуру, чтобы избежать шаблона, то падает качество генерации предложений. Параметры модели были подобраны эмпирически."
   ]
  },
  {
   "cell_type": "code",
   "execution_count": 31,
   "metadata": {},
   "outputs": [],
   "source": [
    "tokenizer = AutoTokenizer.from_pretrained(\"facebook/bart-large-cnn\")\n",
    "model = AutoModelForSeq2SeqLM.from_pretrained(\"facebook/bart-large-cnn\")\n",
    "input_text = sentence + ' There is some ways to rephrase this sentence. 1.'\n",
    "input_ids = torch.tensor(tokenizer.encode(input_text, add_special_tokens=True)).unsqueeze(0)"
   ]
  },
  {
   "cell_type": "code",
   "execution_count": 32,
   "metadata": {},
   "outputs": [],
   "source": [
    "input = torch.tensor(tokenizer.encode(input_text, add_special_tokens=True)).unsqueeze(0)\n",
    "with torch.no_grad():\n",
    "    outputs = model.generate(\n",
    "        input_ids=input_ids,\n",
    "        max_length=700,\n",
    "        min_length=400,\n",
    "        temperature=1,\n",
    "        top_p=0.95,\n",
    "        repetition_penalty=1.2,\n",
    "        do_sample=True,\n",
    "        pad_token_id=tokenizer.pad_token_id,\n",
    "        eos_token_id=tokenizer.eos_token_id,\n",
    "        early_stopping=True\n",
    "    )"
   ]
  },
  {
   "cell_type": "code",
   "execution_count": 33,
   "metadata": {},
   "outputs": [],
   "source": [
    "synthetic_data = tokenizer.decode(outputs[0].tolist()[1:-1], skip_special_tokens=True).strip()\n",
    "results = [x for x in synthetic_data.split('.') if len(x)>10]"
   ]
  },
  {
   "cell_type": "code",
   "execution_count": 34,
   "metadata": {},
   "outputs": [],
   "source": [
    "from sentence_transformers import SentenceTransformer\n",
    "from sklearn.metrics.pairwise import cosine_similarity\n",
    "tester=SentenceTransformer('paraphrase-MiniLM-L6-v2')\n",
    "x = tester.encode([sentence])\n",
    "scores =[]\n",
    "for i in results[2:-1]:\n",
    "    scores.append(cosine_similarity(x,tester.encode([i])))"
   ]
  },
  {
   "cell_type": "code",
   "execution_count": 35,
   "metadata": {},
   "outputs": [
    {
     "name": "stdout",
     "output_type": "stream",
     "text": [
      "[[0.85839695]]  At every moment in time, hundreds of thousands of events take place that influence our future\n",
      "[[0.7878566]]  At each moment in history, there are millions of things that happen that influence the future of the world\n",
      "[[0.66317046]]  Every generation has a unique set of events that affect the future that have no effect on the past but have a significant impact on the future it will shape\n",
      "[[0.49713406]]  In every generation, a new generation of people is born that changes the way we look at the past and the present\n",
      "[[0.42906266]]  Each generation has its own unique history that can be traced back to the beginning of time\n"
     ]
    }
   ],
   "source": [
    "for i,j in sorted(zip(scores,results[2:-1]),reverse=True)[:5]:\n",
    "    print(i,j)"
   ]
  }
 ],
 "metadata": {
  "kernelspec": {
   "display_name": "venv",
   "language": "python",
   "name": "python3"
  },
  "language_info": {
   "codemirror_mode": {
    "name": "ipython",
    "version": 3
   },
   "file_extension": ".py",
   "mimetype": "text/x-python",
   "name": "python",
   "nbconvert_exporter": "python",
   "pygments_lexer": "ipython3",
   "version": "3.11.7"
  }
 },
 "nbformat": 4,
 "nbformat_minor": 2
}
